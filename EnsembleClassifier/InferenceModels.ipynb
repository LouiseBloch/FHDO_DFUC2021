{
 "cells": [
  {
   "cell_type": "code",
   "execution_count": 1,
   "id": "4da2d246",
   "metadata": {},
   "outputs": [],
   "source": [
    "import DataHelpers\n",
    "import AugmentationHelpers\n",
    "import InferenceHelpers\n",
    "import EnsembleHelpers\n",
    "import TrainingHelpers\n",
    "import ModelHelpers\n",
    "import os\n",
    "import torch\n",
    "import pandas as pd\n",
    "#Directory containing the test images of DFUC 2021\n",
    "TEST_DATA_DIR = \"./data/test/\"\n",
    "#Directory to save trained models\n",
    "MODEL_DIR = \"./Ensemble_Models/\"\n",
    "#Directory containing the training images of DFUC 2021\n",
    "TRAIN_DATA_DIR = \"./data/train/images/\"\n",
    "#.csv file containing the labels of the training dataset\n",
    "TRAIN_LABELS_FILE=os.path.abspath(\"./data/train/train.csv\")\n"
   ]
  },
  {
   "cell_type": "code",
   "execution_count": 2,
   "id": "e6cbbb36",
   "metadata": {},
   "outputs": [],
   "source": [
    "#File with model parameters\n",
    "MODEL_PARAMETERS_FILE=\"./Hyperparameters_Ensemble_Model_1+2+3+4.csv\""
   ]
  },
  {
   "cell_type": "code",
   "execution_count": 4,
   "id": "58d8ff68",
   "metadata": {},
   "outputs": [],
   "source": [
    "model_parameters=pd.read_csv(MODEL_PARAMETERS_FILE,sep=\";\")\n",
    "for indexi, settings in model_parameters.iterrows():\n",
    "    MODEL_DIR_SUB=MODEL_DIR+\"/ID\"+str(settings[\"ID\"])+\"/\"\n",
    "    \n",
    "    MODEL_NAME=settings[\"Model\"]\n",
    "    PRETRAINED=settings[\"Pretrained\"]\n",
    "    learning_rate_warm_up=settings[\"Learning rate warm up\"]\n",
    "    learning_rate=settings[\"Learning rate training\"]\n",
    "    use_scheduler=settings[\"Scheduler\"]\n",
    "    BATCH_SIZE = settings[\"Batch size\"]\n",
    "    IMAGE_SIZE = settings[\"Image size\"]\n",
    "    augmentation=settings[\"Augmentations\"]\n",
    "    NUM_EPOCHS_WARMUP=settings[\"Num epochs warm up\"]\n",
    "    NUM_EPOCHS=settings[\"Num epochs\"]\n",
    "    use_oversampling=settings[\"Oversampling\"]\n",
    "    optimizer_type=settings[\"Optimizer\"]\n",
    "    drop_rate=settings[\"Drop rate\"]\n",
    "    epochs=NUM_EPOCHS_WARMUP+NUM_EPOCHS\n",
    "    multi_GPU=settings[\"Multi GPU\"]\n",
    "    model_file=MODEL_DIR_SUB+\"/Model_Epoch_\"+str(epochs)+\".pth\"\n",
    "    if os.path.exists(model_file):\n",
    "        device = (\"cuda\" if torch.cuda.is_available() else \"cpu\")\n",
    "        torch.manual_seed(103)\n",
    "        trainingDataset=DataHelpers.prepare_Training_Dataset(TRAIN_LABELS_FILE,TRAIN_DATA_DIR)\n",
    "        NUM_CLASSES=DataHelpers.get_number_of_classes_in_dataset(trainingDataset)\n",
    "        model=ModelHelpers.load_inference_model(MODEL_NAME,PRETRAINED,NUM_CLASSES,drop_rate,device,model_file,multi_GPU)\n",
    "        InferenceHelpers.inference_Model(device,TEST_DATA_DIR,augmentation,IMAGE_SIZE,model,MODEL_DIR_SUB+\"/results.csv\",10)"
   ]
  }
 ],
 "metadata": {
  "kernelspec": {
   "display_name": "Python 3",
   "language": "python",
   "name": "python3"
  },
  "language_info": {
   "codemirror_mode": {
    "name": "ipython",
    "version": 3
   },
   "file_extension": ".py",
   "mimetype": "text/x-python",
   "name": "python",
   "nbconvert_exporter": "python",
   "pygments_lexer": "ipython3",
   "version": "3.6.9"
  }
 },
 "nbformat": 4,
 "nbformat_minor": 5
}
