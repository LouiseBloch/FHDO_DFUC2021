{
 "cells": [
  {
   "cell_type": "code",
   "execution_count": 1,
   "id": "4da2d246",
   "metadata": {},
   "outputs": [],
   "source": [
    "import DataHelpers\n",
    "import AugmentationHelpers\n",
    "import InferenceHelpers\n",
    "import EnsembleHelpers\n",
    "import TrainingHelpers\n",
    "import ModelHelpers\n",
    "import os\n",
    "import torch\n",
    "import pandas as pd\n",
    "#Directory to save trained models\n",
    "MODEL_DIR = \"./Ensemble_Models/\"\n",
    "#File to save inference predictions of the ensemble model\n",
    "RESULTS_FILE_ENSEMBLE=\"./results_ensemble.csv\""
   ]
  },
  {
   "cell_type": "code",
   "execution_count": 10,
   "id": "e6cbbb36",
   "metadata": {},
   "outputs": [],
   "source": [
    "#File with model parameters\n",
    "MODEL_PARAMETERS_FILE=\"./Hyperparameters_GAN_Extended_Model_2.csv\""
   ]
  },
  {
   "cell_type": "code",
   "execution_count": 3,
   "id": "58d8ff68",
   "metadata": {},
   "outputs": [],
   "source": [
    "model_parameters=pd.read_csv(MODEL_PARAMETERS_FILE,sep=\";\")\n",
    "model_files=[]\n",
    "for indexi, settings in model_parameters.iterrows():\n",
    "    MODEL_DIR_SUB=MODEL_DIR+\"/ID\"+str(settings[\"ID\"])+\"/\"\n",
    "    model_results_file=MODEL_DIR_SUB+\"/results.csv\"\n",
    "    if os.path.exists(model_results_file):\n",
    "        model_files.append(model_results_file)\n",
    "EnsembleHelpers.inference_ensemble(model_files,RESULTS_FILE_ENSEMBLE)"
   ]
  }
 ],
 "metadata": {
  "kernelspec": {
   "display_name": "Python 3",
   "language": "python",
   "name": "python3"
  },
  "language_info": {
   "codemirror_mode": {
    "name": "ipython",
    "version": 3
   },
   "file_extension": ".py",
   "mimetype": "text/x-python",
   "name": "python",
   "nbconvert_exporter": "python",
   "pygments_lexer": "ipython3",
   "version": "3.6.9"
  }
 },
 "nbformat": 4,
 "nbformat_minor": 5
}
