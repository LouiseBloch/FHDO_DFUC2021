{
 "cells": [
  {
   "cell_type": "code",
   "execution_count": null,
   "id": "2543b34b",
   "metadata": {},
   "outputs": [],
   "source": [
    "import DataHelpers\n",
    "import AugmentationHelpers\n",
    "import InferenceHelpers\n",
    "import EnsembleHelpers\n",
    "import TrainingHelpers\n",
    "import os\n",
    "import torch\n",
    "import pandas as pd\n",
    "#Directory containing the training images of DFUC 2021\n",
    "TRAIN_DATA_DIR = \"./data/train/images/\"\n",
    "#.csv file containing the labels of the training dataset\n",
    "TRAIN_LABELS_FILE=os.path.abspath(\"./data/train/train.csv\")\n",
    "#Directory to save trained models\n",
    "MODEL_DIR = \"./Ensemble_Models/\"\n"
   ]
  },
  {
   "cell_type": "code",
   "execution_count": null,
   "id": "cb99d8d4",
   "metadata": {},
   "outputs": [],
   "source": [
    "#File with model parameters\n",
    "MODEL_PARAMETERS_FILE=\"./Hyperparameters_Ensemble_Model_1+2+3+4.csv\"\n"
   ]
  },
  {
   "cell_type": "code",
   "execution_count": null,
   "id": "38ae6610",
   "metadata": {},
   "outputs": [],
   "source": [
    "model_parameters=pd.read_csv(MODEL_PARAMETERS_FILE,sep=\";\")\n",
    "if not os.path.exists(MODEL_DIR):\n",
    "    os.mkdir(MODEL_DIR)\n",
    "for indexi, settings in model_parameters.iterrows():\n",
    "    MODEL_DIR_SUB=MODEL_DIR+\"/ID\"+str(settings[\"ID\"])+\"/\"\n",
    "    if not os.path.exists(MODEL_DIR_SUB):\n",
    "        os.mkdir(MODEL_DIR_SUB)\n",
    "        MODEL_NAME=settings[\"Model\"]\n",
    "        PRETRAINED=settings[\"Pretrained\"]\n",
    "        learning_rate_warm_up=settings[\"Learning rate warm up\"]\n",
    "        learning_rate=settings[\"Learning rate training\"]\n",
    "        use_scheduler=settings[\"Scheduler\"]\n",
    "        BATCH_SIZE = settings[\"Batch size\"]\n",
    "        IMAGE_SIZE = settings[\"Image size\"]\n",
    "        augmentation=settings[\"Augmentations\"]\n",
    "        NUM_EPOCHS_WARMUP=settings[\"Num epochs warm up\"]\n",
    "        NUM_EPOCHS=settings[\"Num epochs\"]\n",
    "        use_oversampling=settings[\"Oversampling\"]\n",
    "        optimizer_type=settings[\"Optimizer\"]\n",
    "    #set model name, that corresponds to timm model names\n",
    "        drop_rate=settings[\"Drop rate\"]\n",
    "        multi_GPU=settings[\"Multi GPU\"]\n",
    "\n",
    "        device = (\"cuda\" if torch.cuda.is_available() else \"cpu\")\n",
    "        torch.manual_seed(103)\n",
    "        trainingDataset=DataHelpers.prepare_Training_Dataset(TRAIN_LABELS_FILE,TRAIN_DATA_DIR)\n",
    "        NUM_CLASSES=DataHelpers.get_number_of_classes_in_dataset(trainingDataset)\n",
    "        DFUCDataset=DataHelpers.initialize_DFUC_Dataloader()\n",
    "        train_augmentations=AugmentationHelpers.load_training_augmentations(IMAGE_SIZE,augmentation)\n",
    "        train_loader=DataHelpers.load_dataset(trainingDataset,DFUCDataset,train_augmentations,True,BATCH_SIZE,use_oversampling)\n",
    "        valid_loader=None\n",
    "        num_training_samples=trainingDataset.shape[0]\n",
    "        num_validation_samples=0\n",
    "        model=TrainingHelpers.iterate_epochs(train_loader,valid_loader,MODEL_NAME,optimizer_type,drop_rate,num_training_samples,num_validation_samples,NUM_EPOCHS+NUM_EPOCHS_WARMUP,MODEL_DIR_SUB,device, learning_rate,learning_rate_warm_up,use_scheduler,NUM_EPOCHS_WARMUP,PRETRAINED,NUM_CLASSES,multi_GPU)"
   ]
  }
 ],
 "metadata": {
  "kernelspec": {
   "display_name": "Python 3",
   "language": "python",
   "name": "python3"
  },
  "language_info": {
   "codemirror_mode": {
    "name": "ipython",
    "version": 3
   },
   "file_extension": ".py",
   "mimetype": "text/x-python",
   "name": "python",
   "nbconvert_exporter": "python",
   "pygments_lexer": "ipython3",
   "version": "3.6.9"
  }
 },
 "nbformat": 4,
 "nbformat_minor": 5
}
